{
 "cells": [
  {
   "cell_type": "markdown",
   "metadata": {},
   "source": [
    "# Exploratory Data Analysis & Data Preprocessing"
   ]
  },
  {
   "cell_type": "code",
   "execution_count": 1,
   "metadata": {},
   "outputs": [],
   "source": [
    "import pandas as pd\n",
    "import matplotlib.pyplot as plt\n",
    "import numpy as np"
   ]
  },
  {
   "cell_type": "code",
   "execution_count": 2,
   "metadata": {},
   "outputs": [
    {
     "data": {
      "text/html": [
       "<div>\n",
       "<style scoped>\n",
       "    .dataframe tbody tr th:only-of-type {\n",
       "        vertical-align: middle;\n",
       "    }\n",
       "\n",
       "    .dataframe tbody tr th {\n",
       "        vertical-align: top;\n",
       "    }\n",
       "\n",
       "    .dataframe thead th {\n",
       "        text-align: right;\n",
       "    }\n",
       "</style>\n",
       "<table border=\"1\" class=\"dataframe\">\n",
       "  <thead>\n",
       "    <tr style=\"text-align: right;\">\n",
       "      <th></th>\n",
       "      <th>userId</th>\n",
       "      <th>startTimestamp</th>\n",
       "      <th>endTimestamp</th>\n",
       "    </tr>\n",
       "  </thead>\n",
       "  <tbody>\n",
       "    <tr>\n",
       "      <th>0</th>\n",
       "      <td>01HDGK5FYC1HAJ2J5W37KYRY5V</td>\n",
       "      <td>2023-10-24 10:55:57.73 UTC</td>\n",
       "      <td>2023-10-24 13:52:14.47 UTC</td>\n",
       "    </tr>\n",
       "    <tr>\n",
       "      <th>1</th>\n",
       "      <td>01HDGK68PBJAEWJX5TRY0SEAZE</td>\n",
       "      <td>2023-10-24 10:56:04.824 UTC</td>\n",
       "      <td>2023-10-24 12:20:59.39 UTC</td>\n",
       "    </tr>\n",
       "    <tr>\n",
       "      <th>2</th>\n",
       "      <td>01HDGK59GHE6EH7QM762W9GZ7X</td>\n",
       "      <td>2023-10-24 10:56:21.952 UTC</td>\n",
       "      <td>2023-10-24 12:30:38.503 UTC</td>\n",
       "    </tr>\n",
       "    <tr>\n",
       "      <th>3</th>\n",
       "      <td>01HDGGNBZ6NQWR1G4522A4Q5XB</td>\n",
       "      <td>2023-10-24 10:58:39.376 UTC</td>\n",
       "      <td>2023-10-24 16:56:52.894 UTC</td>\n",
       "    </tr>\n",
       "    <tr>\n",
       "      <th>4</th>\n",
       "      <td>01HDGK659C94THMCHGJ9V5JN31</td>\n",
       "      <td>2023-10-24 11:00:01.354 UTC</td>\n",
       "      <td>2023-10-24 12:03:17.322 UTC</td>\n",
       "    </tr>\n",
       "    <tr>\n",
       "      <th>...</th>\n",
       "      <td>...</td>\n",
       "      <td>...</td>\n",
       "      <td>...</td>\n",
       "    </tr>\n",
       "    <tr>\n",
       "      <th>3482</th>\n",
       "      <td>01HDGTBM19YR93KK9E0XMCM0E5</td>\n",
       "      <td>2023-10-31 23:15:16.416 UTC</td>\n",
       "      <td>2023-10-31 23:32:33.057 UTC</td>\n",
       "    </tr>\n",
       "    <tr>\n",
       "      <th>3483</th>\n",
       "      <td>01HDGT9596SVD12YJ1N7Z9NZKX</td>\n",
       "      <td>2023-10-31 23:22:54.286 UTC</td>\n",
       "      <td>2023-10-31 23:22:57.174 UTC</td>\n",
       "    </tr>\n",
       "    <tr>\n",
       "      <th>3484</th>\n",
       "      <td>01HDGGWRKXY5YSQ5KCD75EDNMA</td>\n",
       "      <td>2023-10-31 23:26:42.444 UTC</td>\n",
       "      <td>2023-10-31 23:43:05.666 UTC</td>\n",
       "    </tr>\n",
       "    <tr>\n",
       "      <th>3485</th>\n",
       "      <td>01HDGGQHN9TM6QTYMVJZKHT1WY</td>\n",
       "      <td>2023-10-31 23:35:06.122 UTC</td>\n",
       "      <td>2023-10-31 23:43:16.743 UTC</td>\n",
       "    </tr>\n",
       "    <tr>\n",
       "      <th>3486</th>\n",
       "      <td>01HDGENJ9TJ7JAVNV7NG6MKVV6</td>\n",
       "      <td>2023-10-31 23:53:16.39 UTC</td>\n",
       "      <td>2023-10-31 23:58:05.117 UTC</td>\n",
       "    </tr>\n",
       "  </tbody>\n",
       "</table>\n",
       "<p>3487 rows × 3 columns</p>\n",
       "</div>"
      ],
      "text/plain": [
       "                          userId               startTimestamp  \\\n",
       "0     01HDGK5FYC1HAJ2J5W37KYRY5V   2023-10-24 10:55:57.73 UTC   \n",
       "1     01HDGK68PBJAEWJX5TRY0SEAZE  2023-10-24 10:56:04.824 UTC   \n",
       "2     01HDGK59GHE6EH7QM762W9GZ7X  2023-10-24 10:56:21.952 UTC   \n",
       "3     01HDGGNBZ6NQWR1G4522A4Q5XB  2023-10-24 10:58:39.376 UTC   \n",
       "4     01HDGK659C94THMCHGJ9V5JN31  2023-10-24 11:00:01.354 UTC   \n",
       "...                          ...                          ...   \n",
       "3482  01HDGTBM19YR93KK9E0XMCM0E5  2023-10-31 23:15:16.416 UTC   \n",
       "3483  01HDGT9596SVD12YJ1N7Z9NZKX  2023-10-31 23:22:54.286 UTC   \n",
       "3484  01HDGGWRKXY5YSQ5KCD75EDNMA  2023-10-31 23:26:42.444 UTC   \n",
       "3485  01HDGGQHN9TM6QTYMVJZKHT1WY  2023-10-31 23:35:06.122 UTC   \n",
       "3486  01HDGENJ9TJ7JAVNV7NG6MKVV6   2023-10-31 23:53:16.39 UTC   \n",
       "\n",
       "                     endTimestamp  \n",
       "0      2023-10-24 13:52:14.47 UTC  \n",
       "1      2023-10-24 12:20:59.39 UTC  \n",
       "2     2023-10-24 12:30:38.503 UTC  \n",
       "3     2023-10-24 16:56:52.894 UTC  \n",
       "4     2023-10-24 12:03:17.322 UTC  \n",
       "...                           ...  \n",
       "3482  2023-10-31 23:32:33.057 UTC  \n",
       "3483  2023-10-31 23:22:57.174 UTC  \n",
       "3484  2023-10-31 23:43:05.666 UTC  \n",
       "3485  2023-10-31 23:43:16.743 UTC  \n",
       "3486  2023-10-31 23:58:05.117 UTC  \n",
       "\n",
       "[3487 rows x 3 columns]"
      ]
     },
     "execution_count": 2,
     "metadata": {},
     "output_type": "execute_result"
    }
   ],
   "source": [
    "data = pd.read_csv(\"./play_sessions.csv\")\n",
    "data"
   ]
  },
  {
   "cell_type": "code",
   "execution_count": 3,
   "metadata": {},
   "outputs": [
    {
     "data": {
      "text/html": [
       "<div>\n",
       "<style scoped>\n",
       "    .dataframe tbody tr th:only-of-type {\n",
       "        vertical-align: middle;\n",
       "    }\n",
       "\n",
       "    .dataframe tbody tr th {\n",
       "        vertical-align: top;\n",
       "    }\n",
       "\n",
       "    .dataframe thead th {\n",
       "        text-align: right;\n",
       "    }\n",
       "</style>\n",
       "<table border=\"1\" class=\"dataframe\">\n",
       "  <thead>\n",
       "    <tr style=\"text-align: right;\">\n",
       "      <th></th>\n",
       "      <th>userId</th>\n",
       "      <th>startTimestamp</th>\n",
       "      <th>endTimestamp</th>\n",
       "    </tr>\n",
       "  </thead>\n",
       "  <tbody>\n",
       "    <tr>\n",
       "      <th>count</th>\n",
       "      <td>3487</td>\n",
       "      <td>3487</td>\n",
       "      <td>3487</td>\n",
       "    </tr>\n",
       "    <tr>\n",
       "      <th>unique</th>\n",
       "      <td>855</td>\n",
       "      <td>3487</td>\n",
       "      <td>3485</td>\n",
       "    </tr>\n",
       "    <tr>\n",
       "      <th>top</th>\n",
       "      <td>01HDGFFDZ4Y6W10JY8B0RBQXS0</td>\n",
       "      <td>2023-10-24 10:55:57.73 UTC</td>\n",
       "      <td>2023-10-31 15:40:16.962 UTC</td>\n",
       "    </tr>\n",
       "    <tr>\n",
       "      <th>freq</th>\n",
       "      <td>34</td>\n",
       "      <td>1</td>\n",
       "      <td>2</td>\n",
       "    </tr>\n",
       "  </tbody>\n",
       "</table>\n",
       "</div>"
      ],
      "text/plain": [
       "                            userId              startTimestamp  \\\n",
       "count                         3487                        3487   \n",
       "unique                         855                        3487   \n",
       "top     01HDGFFDZ4Y6W10JY8B0RBQXS0  2023-10-24 10:55:57.73 UTC   \n",
       "freq                            34                           1   \n",
       "\n",
       "                       endTimestamp  \n",
       "count                          3487  \n",
       "unique                         3485  \n",
       "top     2023-10-31 15:40:16.962 UTC  \n",
       "freq                              2  "
      ]
     },
     "execution_count": 3,
     "metadata": {},
     "output_type": "execute_result"
    }
   ],
   "source": [
    "data.describe()"
   ]
  },
  {
   "cell_type": "markdown",
   "metadata": {},
   "source": [
    "Note that there are 855 users. User 01HDGFFDZ4Y6W10JY8B0RBQXS0 has logged in 34, more than any other player. The number of times a user logs in could indicate player engagement."
   ]
  },
  {
   "cell_type": "code",
   "execution_count": 4,
   "metadata": {},
   "outputs": [],
   "source": [
    "data[\"startTimestamp\"] = pd.to_datetime(data[\"startTimestamp\"], format=\"mixed\")\n",
    "data[\"endTimestamp\"] = pd.to_datetime(data[\"endTimestamp\"], format=\"mixed\")"
   ]
  },
  {
   "cell_type": "code",
   "execution_count": 5,
   "metadata": {},
   "outputs": [],
   "source": [
    "data[\"elapsedTime\"] = (data[\"endTimestamp\"] - data[\"startTimestamp\"]).dt.total_seconds() / (60 * 60)"
   ]
  },
  {
   "cell_type": "code",
   "execution_count": 6,
   "metadata": {},
   "outputs": [
    {
     "name": "stdout",
     "output_type": "stream",
     "text": [
      "Mean total time spent per user (in hours):  4.314657136452242\n",
      "Std of total time spent per user (in hours):  6.917327748205486\n"
     ]
    },
    {
     "data": {
      "text/plain": [
       "(array([433., 134.,  63.,  50.,  25.,  26.,  21.,  15.,  14.,  12.,   8.,\n",
       "          8.,   5.,   9.,   4.,   8.,   4.,   1.,   2.,   1.,   1.,   3.,\n",
       "          2.,   0.,   0.,   1.,   2.,   2.,   0.,   1.]),\n",
       " array([3.87222222e-04, 1.55975304e+00, 3.11911885e+00, 4.67848467e+00,\n",
       "        6.23785048e+00, 7.79721630e+00, 9.35658211e+00, 1.09159479e+01,\n",
       "        1.24753137e+01, 1.40346796e+01, 1.55940454e+01, 1.71534112e+01,\n",
       "        1.87127770e+01, 2.02721428e+01, 2.18315086e+01, 2.33908744e+01,\n",
       "        2.49502403e+01, 2.65096061e+01, 2.80689719e+01, 2.96283377e+01,\n",
       "        3.11877035e+01, 3.27470693e+01, 3.43064351e+01, 3.58658010e+01,\n",
       "        3.74251668e+01, 3.89845326e+01, 4.05438984e+01, 4.21032642e+01,\n",
       "        4.36626300e+01, 4.52219959e+01, 4.67813617e+01]),\n",
       " <BarContainer object of 30 artists>)"
      ]
     },
     "execution_count": 6,
     "metadata": {},
     "output_type": "execute_result"
    },
    {
     "data": {
      "image/png": "[encoded data removed]",
      "text/plain": [
       "<Figure size 640x480 with 1 Axes>"
      ]
     },
     "metadata": {},
     "output_type": "display_data"
    }
   ],
   "source": [
    "times = []\n",
    "for userId in data[\"userId\"].unique():\n",
    "    times.append(data[data[\"userId\"] == userId][\"elapsedTime\"].sum())\n",
    "times = np.array(times)\n",
    "print(\"Mean total time spent per user (in hours): \", times.mean())\n",
    "print(\"Std of total time spent per user (in hours): \", times.std())\n",
    "userTotalTimes = pd.Series(times, index=data[\"userId\"].unique())\n",
    "plt.hist(times, bins=30)"
   ]
  },
  {
   "cell_type": "markdown",
   "metadata": {},
   "source": [
    "The mean total time spent on the game per player is 4.3 hours. \n",
    "However, the standard deviation is 6.9 hours.\n",
    "If we observe the graph, we see that most players invest less than two hours in the game.\n",
    "But there are a few players who play for many hours.\n",
    "The variance in total playtime results in the high std.\n",
    "\n",
    "The total time spent on the game could indicate player engagement."
   ]
  },
  {
   "cell_type": "code",
   "execution_count": 7,
   "metadata": {},
   "outputs": [
    {
     "data": {
      "text/plain": [
       "{'whiskers': [<matplotlib.lines.Line2D at 0x219cecf10d0>,\n",
       "  <matplotlib.lines.Line2D at 0x219cee10990>],\n",
       " 'caps': [<matplotlib.lines.Line2D at 0x219cee11410>,\n",
       "  <matplotlib.lines.Line2D at 0x219cee11cd0>],\n",
       " 'boxes': [<matplotlib.lines.Line2D at 0x219cecf1810>],\n",
       " 'medians': [<matplotlib.lines.Line2D at 0x219cee12510>],\n",
       " 'fliers': [<matplotlib.lines.Line2D at 0x219cee12d90>],\n",
       " 'means': []}"
      ]
     },
     "execution_count": 7,
     "metadata": {},
     "output_type": "execute_result"
    },
    {
     "data": {
      "image/png": "[encoded data removed]",
      "text/plain": [
       "<Figure size 640x480 with 1 Axes>"
      ]
     },
     "metadata": {},
     "output_type": "display_data"
    }
   ],
   "source": [
    "plt.boxplot(times)"
   ]
  },
  {
   "cell_type": "code",
   "execution_count": 8,
   "metadata": {},
   "outputs": [
    {
     "data": {
      "text/html": [
       "<div>\n",
       "<style scoped>\n",
       "    .dataframe tbody tr th:only-of-type {\n",
       "        vertical-align: middle;\n",
       "    }\n",
       "\n",
       "    .dataframe tbody tr th {\n",
       "        vertical-align: top;\n",
       "    }\n",
       "\n",
       "    .dataframe thead th {\n",
       "        text-align: right;\n",
       "    }\n",
       "</style>\n",
       "<table border=\"1\" class=\"dataframe\">\n",
       "  <thead>\n",
       "    <tr style=\"text-align: right;\">\n",
       "      <th></th>\n",
       "      <th>userId</th>\n",
       "      <th>startTimestamp</th>\n",
       "      <th>endTimestamp</th>\n",
       "      <th>elapsedTime</th>\n",
       "      <th>startDay</th>\n",
       "      <th>startSecondOfDay</th>\n",
       "      <th>endDay</th>\n",
       "      <th>endSecondOfDay</th>\n",
       "    </tr>\n",
       "  </thead>\n",
       "  <tbody>\n",
       "    <tr>\n",
       "      <th>0</th>\n",
       "      <td>01HDGK5FYC1HAJ2J5W37KYRY5V</td>\n",
       "      <td>2023-10-24 10:55:57.730000+00:00</td>\n",
       "      <td>2023-10-24 13:52:14.470000+00:00</td>\n",
       "      <td>2.937983</td>\n",
       "      <td>24</td>\n",
       "      <td>39357.730</td>\n",
       "      <td>24</td>\n",
       "      <td>49934.470</td>\n",
       "    </tr>\n",
       "    <tr>\n",
       "      <th>1</th>\n",
       "      <td>01HDGK68PBJAEWJX5TRY0SEAZE</td>\n",
       "      <td>2023-10-24 10:56:04.824000+00:00</td>\n",
       "      <td>2023-10-24 12:20:59.390000+00:00</td>\n",
       "      <td>1.415157</td>\n",
       "      <td>24</td>\n",
       "      <td>39364.824</td>\n",
       "      <td>24</td>\n",
       "      <td>44459.390</td>\n",
       "    </tr>\n",
       "    <tr>\n",
       "      <th>2</th>\n",
       "      <td>01HDGK59GHE6EH7QM762W9GZ7X</td>\n",
       "      <td>2023-10-24 10:56:21.952000+00:00</td>\n",
       "      <td>2023-10-24 12:30:38.503000+00:00</td>\n",
       "      <td>1.571264</td>\n",
       "      <td>24</td>\n",
       "      <td>39381.952</td>\n",
       "      <td>24</td>\n",
       "      <td>45038.503</td>\n",
       "    </tr>\n",
       "    <tr>\n",
       "      <th>3</th>\n",
       "      <td>01HDGGNBZ6NQWR1G4522A4Q5XB</td>\n",
       "      <td>2023-10-24 10:58:39.376000+00:00</td>\n",
       "      <td>2023-10-24 16:56:52.894000+00:00</td>\n",
       "      <td>5.970422</td>\n",
       "      <td>24</td>\n",
       "      <td>39519.376</td>\n",
       "      <td>24</td>\n",
       "      <td>61012.894</td>\n",
       "    </tr>\n",
       "    <tr>\n",
       "      <th>4</th>\n",
       "      <td>01HDGK659C94THMCHGJ9V5JN31</td>\n",
       "      <td>2023-10-24 11:00:01.354000+00:00</td>\n",
       "      <td>2023-10-24 12:03:17.322000+00:00</td>\n",
       "      <td>1.054436</td>\n",
       "      <td>24</td>\n",
       "      <td>39601.354</td>\n",
       "      <td>24</td>\n",
       "      <td>43397.322</td>\n",
       "    </tr>\n",
       "    <tr>\n",
       "      <th>...</th>\n",
       "      <td>...</td>\n",
       "      <td>...</td>\n",
       "      <td>...</td>\n",
       "      <td>...</td>\n",
       "      <td>...</td>\n",
       "      <td>...</td>\n",
       "      <td>...</td>\n",
       "      <td>...</td>\n",
       "    </tr>\n",
       "    <tr>\n",
       "      <th>3482</th>\n",
       "      <td>01HDGTBM19YR93KK9E0XMCM0E5</td>\n",
       "      <td>2023-10-31 23:15:16.416000+00:00</td>\n",
       "      <td>2023-10-31 23:32:33.057000+00:00</td>\n",
       "      <td>0.287956</td>\n",
       "      <td>31</td>\n",
       "      <td>83716.416</td>\n",
       "      <td>31</td>\n",
       "      <td>84753.057</td>\n",
       "    </tr>\n",
       "    <tr>\n",
       "      <th>3483</th>\n",
       "      <td>01HDGT9596SVD12YJ1N7Z9NZKX</td>\n",
       "      <td>2023-10-31 23:22:54.286000+00:00</td>\n",
       "      <td>2023-10-31 23:22:57.174000+00:00</td>\n",
       "      <td>0.000802</td>\n",
       "      <td>31</td>\n",
       "      <td>84174.286</td>\n",
       "      <td>31</td>\n",
       "      <td>84177.174</td>\n",
       "    </tr>\n",
       "    <tr>\n",
       "      <th>3484</th>\n",
       "      <td>01HDGGWRKXY5YSQ5KCD75EDNMA</td>\n",
       "      <td>2023-10-31 23:26:42.444000+00:00</td>\n",
       "      <td>2023-10-31 23:43:05.666000+00:00</td>\n",
       "      <td>0.273117</td>\n",
       "      <td>31</td>\n",
       "      <td>84402.444</td>\n",
       "      <td>31</td>\n",
       "      <td>85385.666</td>\n",
       "    </tr>\n",
       "    <tr>\n",
       "      <th>3485</th>\n",
       "      <td>01HDGGQHN9TM6QTYMVJZKHT1WY</td>\n",
       "      <td>2023-10-31 23:35:06.122000+00:00</td>\n",
       "      <td>2023-10-31 23:43:16.743000+00:00</td>\n",
       "      <td>0.136284</td>\n",
       "      <td>31</td>\n",
       "      <td>84906.122</td>\n",
       "      <td>31</td>\n",
       "      <td>85396.743</td>\n",
       "    </tr>\n",
       "    <tr>\n",
       "      <th>3486</th>\n",
       "      <td>01HDGENJ9TJ7JAVNV7NG6MKVV6</td>\n",
       "      <td>2023-10-31 23:53:16.390000+00:00</td>\n",
       "      <td>2023-10-31 23:58:05.117000+00:00</td>\n",
       "      <td>0.080202</td>\n",
       "      <td>31</td>\n",
       "      <td>85996.390</td>\n",
       "      <td>31</td>\n",
       "      <td>86285.117</td>\n",
       "    </tr>\n",
       "  </tbody>\n",
       "</table>\n",
       "<p>3487 rows × 8 columns</p>\n",
       "</div>"
      ],
      "text/plain": [
       "                          userId                   startTimestamp  \\\n",
       "0     01HDGK5FYC1HAJ2J5W37KYRY5V 2023-10-24 10:55:57.730000+00:00   \n",
       "1     01HDGK68PBJAEWJX5TRY0SEAZE 2023-10-24 10:56:04.824000+00:00   \n",
       "2     01HDGK59GHE6EH7QM762W9GZ7X 2023-10-24 10:56:21.952000+00:00   \n",
       "3     01HDGGNBZ6NQWR1G4522A4Q5XB 2023-10-24 10:58:39.376000+00:00   \n",
       "4     01HDGK659C94THMCHGJ9V5JN31 2023-10-24 11:00:01.354000+00:00   \n",
       "...                          ...                              ...   \n",
       "3482  01HDGTBM19YR93KK9E0XMCM0E5 2023-10-31 23:15:16.416000+00:00   \n",
       "3483  01HDGT9596SVD12YJ1N7Z9NZKX 2023-10-31 23:22:54.286000+00:00   \n",
       "3484  01HDGGWRKXY5YSQ5KCD75EDNMA 2023-10-31 23:26:42.444000+00:00   \n",
       "3485  01HDGGQHN9TM6QTYMVJZKHT1WY 2023-10-31 23:35:06.122000+00:00   \n",
       "3486  01HDGENJ9TJ7JAVNV7NG6MKVV6 2023-10-31 23:53:16.390000+00:00   \n",
       "\n",
       "                         endTimestamp  elapsedTime  startDay  \\\n",
       "0    2023-10-24 13:52:14.470000+00:00     2.937983        24   \n",
       "1    2023-10-24 12:20:59.390000+00:00     1.415157        24   \n",
       "2    2023-10-24 12:30:38.503000+00:00     1.571264        24   \n",
       "3    2023-10-24 16:56:52.894000+00:00     5.970422        24   \n",
       "4    2023-10-24 12:03:17.322000+00:00     1.054436        24   \n",
       "...                               ...          ...       ...   \n",
       "3482 2023-10-31 23:32:33.057000+00:00     0.287956        31   \n",
       "3483 2023-10-31 23:22:57.174000+00:00     0.000802        31   \n",
       "3484 2023-10-31 23:43:05.666000+00:00     0.273117        31   \n",
       "3485 2023-10-31 23:43:16.743000+00:00     0.136284        31   \n",
       "3486 2023-10-31 23:58:05.117000+00:00     0.080202        31   \n",
       "\n",
       "      startSecondOfDay  endDay  endSecondOfDay  \n",
       "0            39357.730      24       49934.470  \n",
       "1            39364.824      24       44459.390  \n",
       "2            39381.952      24       45038.503  \n",
       "3            39519.376      24       61012.894  \n",
       "4            39601.354      24       43397.322  \n",
       "...                ...     ...             ...  \n",
       "3482         83716.416      31       84753.057  \n",
       "3483         84174.286      31       84177.174  \n",
       "3484         84402.444      31       85385.666  \n",
       "3485         84906.122      31       85396.743  \n",
       "3486         85996.390      31       86285.117  \n",
       "\n",
       "[3487 rows x 8 columns]"
      ]
     },
     "execution_count": 8,
     "metadata": {},
     "output_type": "execute_result"
    }
   ],
   "source": [
    "for item in [\"start\", \"end\"]:\n",
    "    data[item + \"Day\"] = data[item + \"Timestamp\"].dt.day\n",
    "    data[item + \"SecondOfDay\"] = data[item + \"Timestamp\"].dt.hour * 60**2 \\\n",
    "                                    + data[item + \"Timestamp\"].dt.minute * 60 \\\n",
    "                                    + data[item + \"Timestamp\"].dt.second \\\n",
    "                                    + data[item + \"Timestamp\"].dt.microsecond / 10**6\n",
    "data"
   ]
  },
  {
   "cell_type": "code",
   "execution_count": 9,
   "metadata": {},
   "outputs": [
    {
     "data": {
      "text/plain": [
       "(array([129., 103.,  86.,  81.,  96.,  96.,  81., 108., 107., 102., 108.,\n",
       "        136., 137., 174., 334., 259., 224., 235., 206., 189., 152., 158.,\n",
       "        116.,  70.]),\n",
       " array([3.00700000e+00, 3.58770988e+03, 7.17241275e+03, 1.07571156e+04,\n",
       "        1.43418185e+04, 1.79265214e+04, 2.15112243e+04, 2.50959271e+04,\n",
       "        2.86806300e+04, 3.22653329e+04, 3.58500358e+04, 3.94347386e+04,\n",
       "        4.30194415e+04, 4.66041444e+04, 5.01888473e+04, 5.37735501e+04,\n",
       "        5.73582530e+04, 6.09429559e+04, 6.45276588e+04, 6.81123616e+04,\n",
       "        7.16970645e+04, 7.52817674e+04, 7.88664703e+04, 8.24511731e+04,\n",
       "        8.60358760e+04]),\n",
       " <BarContainer object of 24 artists>)"
      ]
     },
     "execution_count": 9,
     "metadata": {},
     "output_type": "execute_result"
    },
    {
     "data": {
      "image/png": "[encoded data removed]",
      "text/plain": [
       "<Figure size 640x480 with 1 Axes>"
      ]
     },
     "metadata": {},
     "output_type": "display_data"
    }
   ],
   "source": [
    "plt.hist(data[\"startSecondOfDay\"], bins=24)"
   ]
  },
  {
   "cell_type": "code",
   "execution_count": 10,
   "metadata": {},
   "outputs": [
    {
     "data": {
      "text/plain": [
       "(array([ 58.,  74.,  90.,  91.,  92.,  89.,  76.,  97., 100., 110., 101.,\n",
       "        115., 128., 166., 247., 257., 250., 234., 213., 206., 176., 176.,\n",
       "        191., 150.]),\n",
       " array([  404.802   ,  3987.637875,  7570.47375 , 11153.309625,\n",
       "        14736.1455  , 18318.981375, 21901.81725 , 25484.653125,\n",
       "        29067.489   , 32650.324875, 36233.16075 , 39815.996625,\n",
       "        43398.8325  , 46981.668375, 50564.50425 , 54147.340125,\n",
       "        57730.176   , 61313.011875, 64895.84775 , 68478.683625,\n",
       "        72061.5195  , 75644.355375, 79227.19125 , 82810.027125,\n",
       "        86392.863   ]),\n",
       " <BarContainer object of 24 artists>)"
      ]
     },
     "execution_count": 10,
     "metadata": {},
     "output_type": "execute_result"
    },
    {
     "data": {
      "image/png": "[encoded data removed]",
      "text/plain": [
       "<Figure size 640x480 with 1 Axes>"
      ]
     },
     "metadata": {},
     "output_type": "display_data"
    }
   ],
   "source": [
    "plt.hist(data[\"endSecondOfDay\"], bins=24)"
   ]
  },
  {
   "cell_type": "markdown",
   "metadata": {},
   "source": [
    "The times of the day the user logs in and out could indicate how likely a player is to remain engaged."
   ]
  },
  {
   "cell_type": "markdown",
   "metadata": {},
   "source": [
    "# Feature Engineering"
   ]
  },
  {
   "cell_type": "code",
   "execution_count": 11,
   "metadata": {},
   "outputs": [],
   "source": [
    "beforeData = data[data[\"startDay\"] <= 28]\n",
    "afterData = data[data[\"startDay\"] >= 29]\n",
    "# afterDataFiltered = afterData[afterData[\"userId\"].isin(beforeData[\"userId\"].unique())].copy()\n",
    "# afterDataFiltered[\"newElapsedTime\"] = (afterDataFiltered[\"endTimestamp\"] - afterDataFiltered[\"startTimestamp\"]).dt.total_seconds()"
   ]
  },
  {
   "cell_type": "code",
   "execution_count": 12,
   "metadata": {},
   "outputs": [],
   "source": [
    "def meanStdTimeBetweenSessions(data, userId):\n",
    "    diffList = []\n",
    "    prevTime = None\n",
    "    currTime = None\n",
    "    for row in data[data[\"userId\"] == userId].iterrows():\n",
    "        if prevTime is None:\n",
    "            prevTime = row[1][\"endTimestamp\"]\n",
    "        else:\n",
    "            currTime = row[1][\"startTimestamp\"]\n",
    "            diff = (currTime - prevTime).total_seconds()\n",
    "            diffList.append(diff)\n",
    "            prevTime = row[1][\"endTimestamp\"]\n",
    "    if len(diffList) == 0:\n",
    "        return -1, -1\n",
    "    diffList = np.array(diffList)\n",
    "    return diffList.mean(), diffList.std()\n",
    "\n",
    "\n",
    "def meanStdElapsedTime(data, userId):\n",
    "    s = data[data[\"userId\"] == userId][\"elapsedTime\"] * 60 * 60\n",
    "    s = s.to_numpy()\n",
    "    return s.mean(), s.std()\n",
    "\n",
    "SECONDS_IN_DAY = 24 * 60 * 60\n",
    "def encodeTime(seconds):\n",
    "    secondsSin = np.sin(2 * np.pi * seconds / SECONDS_IN_DAY)\n",
    "    secondsCos = np.cos(2 * np.pi * seconds / SECONDS_IN_DAY)\n",
    "    return secondsSin, secondsCos\n",
    "\n",
    "def medianStartEndTime(data, userId):\n",
    "    medianStartSecondSin, medianStartSecondCos = data[data[\"userId\"] == userId][\"startSecondOfDay\"].apply(encodeTime).apply(pd.Series).median()\n",
    "    medianEndSecondSin, medianEndSecondCos = data[data[\"userId\"] == userId][\"endSecondOfDay\"].apply(encodeTime).apply(pd.Series).median()\n",
    "    return medianStartSecondSin, medianStartSecondCos, medianEndSecondSin, medianEndSecondCos"
   ]
  },
  {
   "cell_type": "code",
   "execution_count": 15,
   "metadata": {},
   "outputs": [],
   "source": [
    "lstX = []\n",
    "lstY = []\n",
    "userSessionCount = beforeData[\"userId\"].value_counts()\n",
    "for userId in beforeData[\"userId\"].unique():\n",
    "    # x\n",
    "    temp = []\n",
    "    temp.append(userSessionCount[userId])\n",
    "    mean, std = meanStdTimeBetweenSessions(beforeData, userId)\n",
    "    temp.append(mean)\n",
    "    temp.append(std)\n",
    "    mean, std = meanStdElapsedTime(beforeData, userId)\n",
    "    temp.append(mean)\n",
    "    temp.append(std)\n",
    "    medianStartSecondSin, medianStartSecondCos, medianEndSecondSin, medianEndSecondCos = medianStartEndTime(beforeData, userId)\n",
    "    temp.append(medianStartSecondSin)\n",
    "    temp.append(medianStartSecondCos)\n",
    "    temp.append(medianEndSecondSin)\n",
    "    temp.append(medianEndSecondCos)\n",
    "    lstX.append(temp)\n",
    "\n",
    "    # y\n",
    "    # 1 if player engaged again\n",
    "    if userId in afterData[\"userId\"].unique():\n",
    "        lstY.append(1)\n",
    "    # 0 if player did not engage again\n",
    "    else:\n",
    "        lstY.append(0)\n",
    "    \n",
    "\n",
    "x = np.array(lstX)\n",
    "y = np.array(lstY)"
   ]
  },
  {
   "cell_type": "markdown",
   "metadata": {},
   "source": [
    "# Modelling with Logistic Regression"
   ]
  },
  {
   "cell_type": "code",
   "execution_count": 62,
   "metadata": {},
   "outputs": [
    {
     "name": "stdout",
     "output_type": "stream",
     "text": [
      "(array([0, 1]), array([338, 190], dtype=int64))\n"
     ]
    }
   ],
   "source": [
    "split = int(len(x) * 0.8)\n",
    "indices = np.random.permutation(x.shape[0])\n",
    "trainIdx, testIdx = indices[:split], indices[split:]\n",
    "trainX, testX = x[trainIdx,:], x[testIdx,:]\n",
    "trainY, testY = y[trainIdx], y[testIdx]\n",
    "print(np.unique(trainY, return_counts=True))"
   ]
  },
  {
   "cell_type": "markdown",
   "metadata": {},
   "source": [
    "Note the imbalanced dataset."
   ]
  },
  {
   "cell_type": "code",
   "execution_count": 63,
   "metadata": {},
   "outputs": [
    {
     "data": {
      "text/html": [
       "<style>#sk-container-id-9 {color: black;}#sk-container-id-9 pre{padding: 0;}#sk-container-id-9 div.sk-toggleable {background-color: white;}#sk-container-id-9 label.sk-toggleable__label {cursor: pointer;display: block;width: 100%;margin-bottom: 0;padding: 0.3em;box-sizing: border-box;text-align: center;}#sk-container-id-9 label.sk-toggleable__label-arrow:before {content: \"▸\";float: left;margin-right: 0.25em;color: #696969;}#sk-container-id-9 label.sk-toggleable__label-arrow:hover:before {color: black;}#sk-container-id-9 div.sk-estimator:hover label.sk-toggleable__label-arrow:before {color: black;}#sk-container-id-9 div.sk-toggleable__content {max-height: 0;max-width: 0;overflow: hidden;text-align: left;background-color: #f0f8ff;}#sk-container-id-9 div.sk-toggleable__content pre {margin: 0.2em;color: black;border-radius: 0.25em;background-color: #f0f8ff;}#sk-container-id-9 input.sk-toggleable__control:checked~div.sk-toggleable__content {max-height: 200px;max-width: 100%;overflow: auto;}#sk-container-id-9 input.sk-toggleable__control:checked~label.sk-toggleable__label-arrow:before {content: \"▾\";}#sk-container-id-9 div.sk-estimator input.sk-toggleable__control:checked~label.sk-toggleable__label {background-color: #d4ebff;}#sk-container-id-9 div.sk-label input.sk-toggleable__control:checked~label.sk-toggleable__label {background-color: #d4ebff;}#sk-container-id-9 input.sk-hidden--visually {border: 0;clip: rect(1px 1px 1px 1px);clip: rect(1px, 1px, 1px, 1px);height: 1px;margin: -1px;overflow: hidden;padding: 0;position: absolute;width: 1px;}#sk-container-id-9 div.sk-estimator {font-family: monospace;background-color: #f0f8ff;border: 1px dotted black;border-radius: 0.25em;box-sizing: border-box;margin-bottom: 0.5em;}#sk-container-id-9 div.sk-estimator:hover {background-color: #d4ebff;}#sk-container-id-9 div.sk-parallel-item::after {content: \"\";width: 100%;border-bottom: 1px solid gray;flex-grow: 1;}#sk-container-id-9 div.sk-label:hover label.sk-toggleable__label {background-color: #d4ebff;}#sk-container-id-9 div.sk-serial::before {content: \"\";position: absolute;border-left: 1px solid gray;box-sizing: border-box;top: 0;bottom: 0;left: 50%;z-index: 0;}#sk-container-id-9 div.sk-serial {display: flex;flex-direction: column;align-items: center;background-color: white;padding-right: 0.2em;padding-left: 0.2em;position: relative;}#sk-container-id-9 div.sk-item {position: relative;z-index: 1;}#sk-container-id-9 div.sk-parallel {display: flex;align-items: stretch;justify-content: center;background-color: white;position: relative;}#sk-container-id-9 div.sk-item::before, #sk-container-id-9 div.sk-parallel-item::before {content: \"\";position: absolute;border-left: 1px solid gray;box-sizing: border-box;top: 0;bottom: 0;left: 50%;z-index: -1;}#sk-container-id-9 div.sk-parallel-item {display: flex;flex-direction: column;z-index: 1;position: relative;background-color: white;}#sk-container-id-9 div.sk-parallel-item:first-child::after {align-self: flex-end;width: 50%;}#sk-container-id-9 div.sk-parallel-item:last-child::after {align-self: flex-start;width: 50%;}#sk-container-id-9 div.sk-parallel-item:only-child::after {width: 0;}#sk-container-id-9 div.sk-dashed-wrapped {border: 1px dashed gray;margin: 0 0.4em 0.5em 0.4em;box-sizing: border-box;padding-bottom: 0.4em;background-color: white;}#sk-container-id-9 div.sk-label label {font-family: monospace;font-weight: bold;display: inline-block;line-height: 1.2em;}#sk-container-id-9 div.sk-label-container {text-align: center;}#sk-container-id-9 div.sk-container {/* jupyter's `normalize.less` sets `[hidden] { display: none; }` but bootstrap.min.css set `[hidden] { display: none !important; }` so we also need the `!important` here to be able to override the default hidden behavior on the sphinx rendered scikit-learn.org. See: https://github.com/scikit-learn/scikit-learn/issues/21755 */display: inline-block !important;position: relative;}#sk-container-id-9 div.sk-text-repr-fallback {display: none;}</style><div id=\"sk-container-id-9\" class=\"sk-top-container\"><div class=\"sk-text-repr-fallback\"><pre>LogisticRegression()</pre><b>In a Jupyter environment, please rerun this cell to show the HTML representation or trust the notebook. <br />On GitHub, the HTML representation is unable to render, please try loading this page with nbviewer.org.</b></div><div class=\"sk-container\" hidden><div class=\"sk-item\"><div class=\"sk-estimator sk-toggleable\"><input class=\"sk-toggleable__control sk-hidden--visually\" id=\"sk-estimator-id-9\" type=\"checkbox\" checked><label for=\"sk-estimator-id-9\" class=\"sk-toggleable__label sk-toggleable__label-arrow\">LogisticRegression</label><div class=\"sk-toggleable__content\"><pre>LogisticRegression()</pre></div></div></div></div></div>"
      ],
      "text/plain": [
       "LogisticRegression()"
      ]
     },
     "execution_count": 63,
     "metadata": {},
     "output_type": "execute_result"
    }
   ],
   "source": [
    "from sklearn.linear_model import LogisticRegression\n",
    "\n",
    "model = LogisticRegression()\n",
    "model.fit(trainX, trainY)"
   ]
  },
  {
   "cell_type": "markdown",
   "metadata": {},
   "source": [
    "# Model Evaluation and Interpretation"
   ]
  },
  {
   "cell_type": "code",
   "execution_count": 64,
   "metadata": {},
   "outputs": [
    {
     "name": "stdout",
     "output_type": "stream",
     "text": [
      "Mean accuracy on train set: 0.6837\n",
      "Mean accuracy on test set: 0.7368\n",
      "ROC AUC socre: 0.6871\n",
      "              precision    recall  f1-score   support\n",
      "\n",
      "           0       0.81      0.78      0.80        88\n",
      "           1       0.60      0.64      0.62        45\n",
      "\n",
      "    accuracy                           0.74       133\n",
      "   macro avg       0.71      0.71      0.71       133\n",
      "weighted avg       0.74      0.74      0.74       133\n",
      "\n"
     ]
    },
    {
     "data": {
      "text/plain": [
       "<Axes: >"
      ]
     },
     "execution_count": 64,
     "metadata": {},
     "output_type": "execute_result"
    },
    {
     "data": {
      "image/png": "[encoded data removed]",
      "text/plain": [
       "<Figure size 640x480 with 2 Axes>"
      ]
     },
     "metadata": {},
     "output_type": "display_data"
    }
   ],
   "source": [
    "from sklearn.metrics import classification_report, confusion_matrix, roc_curve, roc_auc_score\n",
    "import seaborn as sns\n",
    "\n",
    "predY = model.predict(testX)\n",
    "predProb = model.predict_proba(testX)\n",
    "print(\"Mean accuracy on train set: {:.4f}\".format(model.score(trainX, trainY)))\n",
    "print(\"Mean accuracy on test set: {:.4f}\".format(model.score(testX, testY)))\n",
    "classLabels = [\"0\", \"1\"]\n",
    "print(classification_report(testY, predY, target_names=classLabels))\n",
    "cfnMatrix = confusion_matrix(testY, predY)\n",
    "sns.heatmap(cfnMatrix, annot=True)"
   ]
  },
  {
   "cell_type": "code",
   "execution_count": 66,
   "metadata": {},
   "outputs": [
    {
     "name": "stdout",
     "output_type": "stream",
     "text": [
      "ROC AUC score: 0.6871\n"
     ]
    },
    {
     "data": {
      "text/plain": [
       "Text(0.5, 1.0, 'ROC curve')"
      ]
     },
     "execution_count": 66,
     "metadata": {},
     "output_type": "execute_result"
    },
    {
     "data": {
      "image/png": "[encoded data removed]",
      "text/plain": [
       "<Figure size 640x480 with 1 Axes>"
      ]
     },
     "metadata": {},
     "output_type": "display_data"
    }
   ],
   "source": [
    "print(\"ROC AUC score: {:.4f}\".format(roc_auc_score(testY, predProb[:, 1])))\n",
    "fpr, tpr, thresh = roc_curve(testY, predProb[:, 1], pos_label=1)\n",
    "randomProb = [0 for _ in range(len(testY))]\n",
    "pFpr, pTpr, _ = roc_curve(testY, randomProb, pos_label=1)\n",
    "plt.plot(fpr, tpr, color=\"orange\")\n",
    "plt.plot(pFpr, pTpr, color=\"blue\", linestyle=\"--\")\n",
    "plt.title('ROC curve')"
   ]
  },
  {
   "cell_type": "code",
   "execution_count": 70,
   "metadata": {},
   "outputs": [
    {
     "name": "stdout",
     "output_type": "stream",
     "text": [
      "Model coefficients:\n",
      " [[ 5.01688486e-07 -1.46730964e-06  6.02236602e-06 -1.52000999e-04\n",
      "   2.11000440e-04  1.19364064e-07  1.01932805e-07  1.16456066e-07\n",
      "   1.05518319e-07]]\n"
     ]
    }
   ],
   "source": [
    "print(\"Model coefficients:\\n\", model.coef_)"
   ]
  },
  {
   "cell_type": "markdown",
   "metadata": {},
   "source": [
    "We observe that the classifier's overall accuracy on the test set is 74%.\n",
    "Note that the classifier performs well for precision and recall for negative samples (users that did not reengage). Therefore, it obtains a high F1 score for this class.\n",
    "However, it achieves a lower score for precision and recall for positive samples.\n",
    "This discrepancy may be a result of the imbalance in the data.\n",
    "\n",
    "The ROC curve shows the trade-off between sensitivity and specificity.\n",
    "The ROC AUC score is 0.69, meaning our classifier performs better than a random classifier. \n",
    "However, the low values of the model's coefficients suggest that our selected features might not be as relevant as initially thought.\n",
    "\n",
    "\n",
    "We could use the model to predict which users will not reengage with the game and entice them to play.\n",
    "For example, if we know that a user will not return, we could send them an email notification with an exciting event or a special offer."
   ]
  },
  {
   "cell_type": "markdown",
   "metadata": {},
   "source": [
    "# Improving the Model"
   ]
  },
  {
   "cell_type": "code",
   "execution_count": null,
   "metadata": {},
   "outputs": [],
   "source": [
    "from sklearn.model_selection import GridSearchCV\n",
    "\n",
    "params = {\"penalty\": [\"None\", \"l1\", \"l2\", \"elasticnet\"],\n",
    "          \"tol\": [1e-8, 1e-6, 1e-4, 1e-2, 1, 10],\n",
    "          \"C\": [0.1, 1, 10, 100],\n",
    "          \"class_weight\": [None, \"balanced\"],\n",
    "          \"solver\": [\"lbfgs\", \"liblinear\", \"newton-cholesky\"]\n",
    "          }\n",
    "model = LogisticRegression()\n",
    "clf = GridSearchCV(model, params, scoring=\"accuracy\")\n",
    "clf.fit(trainX, trainY)"
   ]
  },
  {
   "cell_type": "code",
   "execution_count": 76,
   "metadata": {},
   "outputs": [
    {
     "name": "stdout",
     "output_type": "stream",
     "text": [
      "Best parameters: {'C': 100, 'class_weight': None, 'penalty': 'l2', 'solver': 'liblinear', 'tol': 1e-08}\n",
      "Accuracy: 0.7291644204851753\n"
     ]
    }
   ],
   "source": [
    "print(\"Best parameters:\", clf.best_params_)\n",
    "print(\"Accuracy:\", clf.best_score_)"
   ]
  },
  {
   "cell_type": "markdown",
   "metadata": {},
   "source": [
    "After hyperparameter tuning, we find that accuracy remains close to our previous value.\n",
    "This result demonstrates that hyperparameter tuning is not the right approach to improve performance in this scenario.\n",
    "Instead, we should choose and engineer different input features."
   ]
  }
 ],
 "metadata": {
  "kernelspec": {
   "display_name": "venv",
   "language": "python",
   "name": "python3"
  },
  "language_info": {
   "codemirror_mode": {
    "name": "ipython",
    "version": 3
   },
   "file_extension": ".py",
   "mimetype": "text/x-python",
   "name": "python",
   "nbconvert_exporter": "python",
   "pygments_lexer": "ipython3",
   "version": "3.11.4"
  }
 },
 "nbformat": 4,
 "nbformat_minor": 2
}
